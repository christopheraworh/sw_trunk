{
 "cells": [
  {
   "cell_type": "code",
   "execution_count": 2,
   "id": "7d79ee63-3662-4533-af00-4376638e1808",
   "metadata": {},
   "outputs": [],
   "source": [
    "import pandas as pd\n",
    "df1= pd.read_csv(r\"C:\\Users\\Christopher Aworh\\Desktop\\sw_trunk_main\\sw_trunk_main\\trunk_main_app\\Trunkmain data\\HX03.csv\")"
   ]
  },
  {
   "cell_type": "code",
   "execution_count": null,
   "id": "d6ffcede-28df-4a33-a268-c6d4ba45309f",
   "metadata": {},
   "outputs": [],
   "source": []
  }
 ],
 "metadata": {
  "kernelspec": {
   "display_name": "Python 3 (ipykernel)",
   "language": "python",
   "name": "python3"
  },
  "language_info": {
   "codemirror_mode": {
    "name": "ipython",
    "version": 3
   },
   "file_extension": ".py",
   "mimetype": "text/x-python",
   "name": "python",
   "nbconvert_exporter": "python",
   "pygments_lexer": "ipython3",
   "version": "3.11.7"
  }
 },
 "nbformat": 4,
 "nbformat_minor": 5
}
